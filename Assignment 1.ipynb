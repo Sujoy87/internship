{
 "cells": [
  {
   "cell_type": "markdown",
   "id": "125208cc",
   "metadata": {},
   "source": [
    "Python Coding Assignment On Strings\n",
    "\n",
    "Question 1: Write a Python program to count the number of characters in a string."
   ]
  },
  {
   "cell_type": "code",
   "execution_count": 1,
   "id": "5479b5b6",
   "metadata": {},
   "outputs": [],
   "source": [
    "a='python program2023'"
   ]
  },
  {
   "cell_type": "code",
   "execution_count": 2,
   "id": "6d271381",
   "metadata": {},
   "outputs": [
    {
     "name": "stdout",
     "output_type": "stream",
     "text": [
      "number of characters is 18\n"
     ]
    }
   ],
   "source": [
    "a='python program2023'\n",
    "def count_characters(a):\n",
    "    return len(a)\n",
    "caracters_count=count_characters(a)\n",
    "print('number of characters is', caracters_count)\n",
    "    "
   ]
  },
  {
   "cell_type": "code",
   "execution_count": 3,
   "id": "1683d711",
   "metadata": {},
   "outputs": [
    {
     "data": {
      "text/plain": [
       "18"
      ]
     },
     "execution_count": 3,
     "metadata": {},
     "output_type": "execute_result"
    }
   ],
   "source": [
    "len(a)"
   ]
  },
  {
   "cell_type": "markdown",
   "id": "388d3a61",
   "metadata": {},
   "source": [
    "Question 2: Write a Python program to reverse a string."
   ]
  },
  {
   "cell_type": "code",
   "execution_count": 4,
   "id": "d1d25440",
   "metadata": {},
   "outputs": [
    {
     "name": "stdout",
     "output_type": "stream",
     "text": [
      "reverse string is = 3202margorp nohtyp\n"
     ]
    }
   ],
   "source": [
    "def reverse_string(reverse_str):\n",
    "    return reverse_str[::-1]\n",
    "\n",
    "reverse_a=reverse_string(a)\n",
    "print('reverse string is =', reverse_a )\n",
    " \n"
   ]
  },
  {
   "cell_type": "code",
   "execution_count": 5,
   "id": "6c5deb83",
   "metadata": {},
   "outputs": [
    {
     "name": "stdout",
     "output_type": "stream",
     "text": [
      "3202margorp nohtyp\n"
     ]
    }
   ],
   "source": [
    "reverse_car=a[::-1]\n",
    "print(reverse_car)"
   ]
  },
  {
   "cell_type": "markdown",
   "id": "f1e9a0d7",
   "metadata": {},
   "source": [
    "Question 3: Write a Python program to check if a string is a palindrome."
   ]
  },
  {
   "cell_type": "code",
   "execution_count": 6,
   "id": "ad7f83b5",
   "metadata": {},
   "outputs": [
    {
     "name": "stdout",
     "output_type": "stream",
     "text": [
      "madam  is a palandrom string\n"
     ]
    }
   ],
   "source": [
    "ch='madam'\n",
    "if ch==ch[::-1]:\n",
    "    print(ch , ' is a palandrom string')\n",
    "else:\n",
    "    print(ch , 'is not a palandrom string')\n",
    "        \n",
    "\n",
    "\n"
   ]
  },
  {
   "cell_type": "markdown",
   "id": "bb6c95d3",
   "metadata": {},
   "source": [
    "Question 4: Write a Python program to find the most common character in a string.\n",
    "\n"
   ]
  },
  {
   "cell_type": "code",
   "execution_count": 235,
   "id": "1b1ffa4e",
   "metadata": {},
   "outputs": [
    {
     "name": "stdout",
     "output_type": "stream",
     "text": [
      "The most common character in the string is: 'a'\n"
     ]
    }
   ],
   "source": [
    "name='sujoy bhattacharya'\n",
    "from collections import Counter\n",
    "\n",
    "def most_common_character(input_string):\n",
    "    char_count = Counter(input_string)\n",
    "    most_common = char_count.most_common(1)[0]\n",
    "    return most_common[0]\n",
    "\n",
    "name = 'sujoy bhattacharya'\n",
    "\n",
    "most_common_char = most_common_character(name)\n",
    "print(f\"The most common character in the string is: '{most_common_char}'\")\n"
   ]
  },
  {
   "cell_type": "markdown",
   "id": "82944054",
   "metadata": {},
   "source": [
    "Question 5: Write a Python program to check if two strings are anagrams.\n",
    "\n",
    "\n",
    "\n",
    "\n"
   ]
  },
  {
   "cell_type": "code",
   "execution_count": 12,
   "id": "f7c6c04c",
   "metadata": {},
   "outputs": [
    {
     "name": "stdout",
     "output_type": "stream",
     "text": [
      "enter_string1heart\n",
      "enter_string2earth\n",
      "this strings are anagrams\n"
     ]
    }
   ],
   "source": [
    "str1=input('enter_string1')\n",
    "str2=input('enter_string2')\n",
    "if len(str1)!=len(str2):\n",
    "    print(\"not a anagrams string\")\n",
    "else:\n",
    "    if sorted(str1)==sorted(str1):\n",
    "          print('this strings are anagrams')\n",
    "    else:\n",
    "        print('not a anagrams string')\n",
    "    "
   ]
  },
  {
   "cell_type": "markdown",
   "id": "ecb96789",
   "metadata": {},
   "source": [
    "Question 6: Write a Python program to remove all the vowels from a string."
   ]
  },
  {
   "cell_type": "code",
   "execution_count": 112,
   "id": "3fc1b414",
   "metadata": {},
   "outputs": [
    {
     "name": "stdout",
     "output_type": "stream",
     "text": [
      "write wordsmy name is gargee and rishaan\n",
      "string without vovels my nm s grg nd rshn\n"
     ]
    }
   ],
   "source": [
    "vovels='AEIOUaeiou'\n",
    "def remove_vovels(str):\n",
    "    for i in str:\n",
    "        if i in vovels:\n",
    "            str= str.replace(i,\"\")\n",
    "    return str\n",
    "nam=input('write words')\n",
    "without_vovels=remove_vovels(nam)\n",
    "        \n",
    "print('string without vovels', without_vovels)\n",
    "        "
   ]
  },
  {
   "cell_type": "code",
   "execution_count": null,
   "id": "b6c946cd",
   "metadata": {},
   "outputs": [],
   "source": [
    "Question 7: Write a Python program to find the longest word in a string."
   ]
  },
  {
   "cell_type": "code",
   "execution_count": 19,
   "id": "29ce0abd",
   "metadata": {},
   "outputs": [
    {
     "name": "stdout",
     "output_type": "stream",
     "text": [
      "write the words= this is the real time yesting for the same circumstance that the developer is preety sure about the programme\n",
      "Longest word: circumstance\n"
     ]
    }
   ],
   "source": [
    "def longest_word(string):\n",
    "    words=string.split()\n",
    "    longest=\"\"\n",
    "    for i in words:\n",
    "        if len(i)>len(longest):\n",
    "            longest=i\n",
    "    return longest\n",
    "words=input('write the words= ' )\n",
    "longest=longest_word(words)\n",
    "\n",
    "print('Longest word:', longest)\n",
    "        \n",
    "    \n"
   ]
  },
  {
   "cell_type": "markdown",
   "id": "f4843efe",
   "metadata": {},
   "source": [
    "Question 8: Write a Python program to capitalize the first letter of each word in a string."
   ]
  },
  {
   "cell_type": "code",
   "execution_count": 21,
   "id": "5c7533dd",
   "metadata": {},
   "outputs": [
    {
     "name": "stdout",
     "output_type": "stream",
     "text": [
      "enter=mentioned in the go programming language article\n"
     ]
    },
    {
     "data": {
      "text/plain": [
       "'Mentioned In The Go Programming Language Article'"
      ]
     },
     "execution_count": 21,
     "metadata": {},
     "output_type": "execute_result"
    }
   ],
   "source": [
    "cap=input('enter=')\n",
    "cap.title()"
   ]
  },
  {
   "cell_type": "markdown",
   "id": "d45295d2",
   "metadata": {},
   "source": [
    "Question 9: Write a Python program to find the frequency of each character in a string."
   ]
  },
  {
   "cell_type": "code",
   "execution_count": 236,
   "id": "ecc19a16",
   "metadata": {},
   "outputs": [
    {
     "name": "stdout",
     "output_type": "stream",
     "text": [
      "enter_string=reliance\n",
      "{'r': 1, 'e': 2, 'l': 1, 'i': 1, 'a': 1, 'n': 1, 'c': 1}\n"
     ]
    }
   ],
   "source": [
    "str_1=input('enter_string=')\n",
    "d1=dict()\n",
    "for i in str_1:\n",
    "    if i in d1:\n",
    "        d1[i]=d1[i]+1\n",
    "    else:\n",
    "         d1[i]=1\n",
    "print(d1)    \n",
    "\n"
   ]
  },
  {
   "cell_type": "markdown",
   "id": "3b7a4a31",
   "metadata": {},
   "source": [
    "Question 10: Write a Python program to check if a string is a valid email address."
   ]
  },
  {
   "cell_type": "code",
   "execution_count": null,
   "id": "b3750ed4",
   "metadata": {},
   "outputs": [],
   "source": [
    "import re\n",
    "\n",
    "validate = r'\\b[A-Za-z0-9._%+-]+@[A-Za-z0-9.-]+\\.[A-Z|a-z]{2,7}\\b'\n",
    "\n",
    "def check(email):\n",
    "    if(re.fullmatch(validate, email)):\n",
    "        print(\"Valid Email\")\n",
    "    else:\n",
    "        print(\"Invalid Email\")\n",
    "\n",
    "\n",
    "if __name__ == '__main__':\n",
    "        \n",
    "        email = input('Enter to validate Mail Id:')\n",
    "        check(email)\n",
    "        \n",
    "        \n",
    "\n"
   ]
  },
  {
   "cell_type": "markdown",
   "id": "53d0cbea",
   "metadata": {},
   "source": [
    "Python Coding Assignment On List\n",
    "\n",
    "Question 1: Write a Python program to count the number of elements in a list."
   ]
  },
  {
   "cell_type": "code",
   "execution_count": null,
   "id": "4cd1c553",
   "metadata": {},
   "outputs": [],
   "source": [
    "a = [100,200,300.56,'raja','priya',200]\n",
    "\n",
    "elements=len(a)\n",
    "print('count the number of elements is:', elements)"
   ]
  },
  {
   "cell_type": "markdown",
   "id": "151c61a8",
   "metadata": {},
   "source": [
    "Question 2: Write a Python program to find the maximum and minimum values in a given list."
   ]
  },
  {
   "cell_type": "code",
   "execution_count": null,
   "id": "e3ccc82d",
   "metadata": {},
   "outputs": [],
   "source": [
    "ab = [100,200,300.56,200]\n",
    "\n",
    "maximum_value=max(ab)\n",
    "minimum_values=min(ab)\n",
    "print('maximum value is:', maximum_value)\n",
    "print('Minimum value is:',minimum_values )"
   ]
  },
  {
   "cell_type": "markdown",
   "id": "1240df93",
   "metadata": {},
   "source": [
    "Question 3: Write a Python program to remove the first occurrence of a specified element from a list."
   ]
  },
  {
   "cell_type": "code",
   "execution_count": null,
   "id": "99591abe",
   "metadata": {},
   "outputs": [],
   "source": [
    "ab = [100,200,300.56,200]\n",
    "ab.remove(100)\n",
    "print(ab)"
   ]
  },
  {
   "cell_type": "markdown",
   "id": "2fa2ed9f",
   "metadata": {},
   "source": [
    "Question 4: Write a Python program to find the average of all the elements in a list."
   ]
  },
  {
   "cell_type": "code",
   "execution_count": null,
   "id": "073294af",
   "metadata": {},
   "outputs": [],
   "source": [
    "a = [10 , 20 , 30 , 50.5 ]\n",
    "sum_Elements=sum(a)\n",
    "count_elements=len(a)\n",
    "average=sum_Elements/count_elements\n",
    "print('average of all the elements in a list is:', average )"
   ]
  },
  {
   "cell_type": "markdown",
   "id": "73969ade",
   "metadata": {},
   "source": [
    "Question 5: Write a Python program to check if a list is empty or not."
   ]
  },
  {
   "cell_type": "code",
   "execution_count": null,
   "id": "e4cfce7a",
   "metadata": {},
   "outputs": [],
   "source": [
    "def empty_list(list_check):\n",
    "    if not list_check:\n",
    "        return True\n",
    "    else:\n",
    "        False\n",
    "        \n",
    "a = [10 , 20 , 30 , 50.5 ]\n",
    "b=[]\n",
    "\n",
    "if empty_list(a):\n",
    "    print('list a is empty')\n",
    "else:\n",
    "    print('list a is not empty')\n",
    "    \n",
    "if empty_list(b):\n",
    "    print('list b is empty')\n",
    "else:\n",
    "    print('list b is not empty')    \n",
    "\n"
   ]
  },
  {
   "cell_type": "markdown",
   "id": "c0d5358f",
   "metadata": {},
   "source": [
    "Question 6: Write a Python program to find the index of a specified element in a list."
   ]
  },
  {
   "cell_type": "code",
   "execution_count": null,
   "id": "e654f9dd",
   "metadata": {},
   "outputs": [],
   "source": [
    "a = [10 , 20 , 30 , 50.5 ]\n",
    "index_number=a.index(30)\n",
    "print('index number of 30 is:', index_number)"
   ]
  },
  {
   "cell_type": "markdown",
   "id": "11b4567e",
   "metadata": {},
   "source": [
    "Question 7: Write a Python program to concatenate two lists."
   ]
  },
  {
   "cell_type": "code",
   "execution_count": null,
   "id": "b884224c",
   "metadata": {},
   "outputs": [],
   "source": [
    "a = [10 , 20 , 30 , 50.5 ]\n",
    "b = [1 , 2 , 3 , 50 ]\n",
    "ab=a+b\n",
    "print(ab)"
   ]
  },
  {
   "cell_type": "markdown",
   "id": "f026c072",
   "metadata": {},
   "source": [
    "Question 8: Write a Python program to find the common elements between two lists."
   ]
  },
  {
   "cell_type": "code",
   "execution_count": null,
   "id": "3dcc179d",
   "metadata": {},
   "outputs": [],
   "source": [
    "a = [10 , 20 , 30 , 50.5 ]\n",
    "b = [10 , 2 , 30 , 50 ]\n",
    "common_elements=list(set(a) & set(b))\n",
    "print('common elements between two lists is:',common_elements )\n"
   ]
  },
  {
   "cell_type": "markdown",
   "id": "f84f9c24",
   "metadata": {},
   "source": [
    "Question 9: Write a Python program to remove the duplicates from a list while preserving the order of elements."
   ]
  },
  {
   "cell_type": "code",
   "execution_count": null,
   "id": "af0ae2e8",
   "metadata": {},
   "outputs": [],
   "source": [
    "a = [10 , 20 , 30 , 10, 50, 30 ]\n",
    "remove=set()\n",
    "result=[]\n",
    "def elements_remove(list_remove):\n",
    "    for item in list_remove:\n",
    "        if item not in remove:\n",
    "            result.append(item)\n",
    "            remove.add(item)\n",
    "    return result\n",
    "\n",
    "elements_list=elements_remove(a)        \n",
    "elements_list"
   ]
  },
  {
   "cell_type": "markdown",
   "id": "e2ae0987",
   "metadata": {},
   "source": [
    "Question 10: Write a Python program to sort a list of strings in alphabetical order"
   ]
  },
  {
   "cell_type": "code",
   "execution_count": 95,
   "id": "3ad8db64",
   "metadata": {},
   "outputs": [
    {
     "name": "stdout",
     "output_type": "stream",
     "text": [
      "['delhi', 'jaipur', 'kanpur', 'mumbai']\n"
     ]
    }
   ],
   "source": [
    "a = ['jaipur', 'mumbai', 'delhi', 'kanpur']\n",
    "sort_1=sorted(a)\n",
    "print(sort_1)"
   ]
  },
  {
   "cell_type": "markdown",
   "id": "30d97408",
   "metadata": {},
   "source": [
    "Python coding on sets Assignment\n",
    "\n",
    "Question 1: Write a Python program to create an empty set.\n"
   ]
  },
  {
   "cell_type": "code",
   "execution_count": 149,
   "id": "381ccea3",
   "metadata": {},
   "outputs": [
    {
     "data": {
      "text/plain": [
       "{}"
      ]
     },
     "execution_count": 149,
     "metadata": {},
     "output_type": "execute_result"
    }
   ],
   "source": [
    "empty_set={}\n",
    "empty_set\n"
   ]
  },
  {
   "cell_type": "markdown",
   "id": "98057a7a",
   "metadata": {},
   "source": [
    "Question 2: Write a Python program to check if two sets are equal."
   ]
  },
  {
   "cell_type": "code",
   "execution_count": 107,
   "id": "1ab3f6db",
   "metadata": {},
   "outputs": [
    {
     "name": "stdout",
     "output_type": "stream",
     "text": [
      "set_a , set_b are_equal\n",
      "set_c , set_d are not equal\n"
     ]
    }
   ],
   "source": [
    "def sets_are_equal(set1 , set2):\n",
    "    return set1==set2\n",
    "# Example sets\n",
    "# Example sets\n",
    "set_a = {1, 2, 3, 4}\n",
    "set_b = {3, 1, 2, 4}\n",
    "set_c = {1, 2, 3}\n",
    "set_d = {3, 5, 1}\n",
    "\n",
    "if sets_are_equal(set_a , set_b):\n",
    "    print('set_a , set_b are_equal')\n",
    "else:\n",
    "    print('set_a , set_b are not equal')\n",
    "\n",
    "if sets_are_equal(set_c , set_d):\n",
    "     print('set_c , set_d are_equal')\n",
    "else:\n",
    "    print('set_c , set_d are not equal')\n"
   ]
  },
  {
   "cell_type": "markdown",
   "id": "4f209ff1",
   "metadata": {},
   "source": [
    "Question 3: Write a Python program to add an element to a set."
   ]
  },
  {
   "cell_type": "code",
   "execution_count": 115,
   "id": "8238ce07",
   "metadata": {},
   "outputs": [
    {
     "data": {
      "text/plain": [
       "{1, 2, 3, 4, 25}"
      ]
     },
     "execution_count": 115,
     "metadata": {},
     "output_type": "execute_result"
    }
   ],
   "source": [
    "set_a = {1, 2, 3, 4}\n",
    "set_a.add(25)\n",
    "set_a"
   ]
  },
  {
   "cell_type": "markdown",
   "id": "c8f58c0f",
   "metadata": {},
   "source": [
    "Question 4: Write a Python program to remove an element from a set."
   ]
  },
  {
   "cell_type": "code",
   "execution_count": 118,
   "id": "df232581",
   "metadata": {},
   "outputs": [
    {
     "data": {
      "text/plain": [
       "{1, 2, 3, 4}"
      ]
     },
     "execution_count": 118,
     "metadata": {},
     "output_type": "execute_result"
    }
   ],
   "source": [
    "set_a = {1, 2, 3, 4, 25}\n",
    "set_a.remove(25)\n",
    "set_a"
   ]
  },
  {
   "cell_type": "markdown",
   "id": "062e64f0",
   "metadata": {},
   "source": [
    "Question 5: Write a Python program to find the union of two sets."
   ]
  },
  {
   "cell_type": "code",
   "execution_count": 125,
   "id": "2907800c",
   "metadata": {},
   "outputs": [
    {
     "name": "stdout",
     "output_type": "stream",
     "text": [
      "union of two sets: {1, 2, 3, 4, 5, 6, 7, 8}\n"
     ]
    }
   ],
   "source": [
    "set_x = {1, 2, 3, 4, 5}\n",
    "set_y = {4, 5, 6, 7, 8}\n",
    "\n",
    "union_set=set_x.union(set_y)\n",
    "print('union of two sets:', union_set)\n"
   ]
  },
  {
   "cell_type": "markdown",
   "id": "c5d8fb35",
   "metadata": {},
   "source": [
    "Question 6: Write a Python program to find the intersection of two sets."
   ]
  },
  {
   "cell_type": "code",
   "execution_count": 130,
   "id": "ebea4a02",
   "metadata": {},
   "outputs": [
    {
     "name": "stdout",
     "output_type": "stream",
     "text": [
      "intersection of two sets: {50, 10}\n"
     ]
    }
   ],
   "source": [
    "set_l = {10, 20, 30, 4, 50}\n",
    "set_m = {40, 50, 10, 70, 90}\n",
    "\n",
    "intersection=set_l.intersection(set_m)\n",
    "print('intersection of two sets:', intersection)"
   ]
  },
  {
   "cell_type": "markdown",
   "id": "bdcb9d06",
   "metadata": {},
   "source": [
    "Question 7: Write a Python program to find the difference between two sets."
   ]
  },
  {
   "cell_type": "code",
   "execution_count": 131,
   "id": "416db66d",
   "metadata": {},
   "outputs": [
    {
     "name": "stdout",
     "output_type": "stream",
     "text": [
      "difference between two sets: {4, 20, 30}\n"
     ]
    }
   ],
   "source": [
    "set_l = {10, 20, 30, 4, 50}\n",
    "set_m = {40, 50, 10, 70, 90}\n",
    "\n",
    "difference=set_l.difference(set_m)\n",
    "print('difference between two sets:',difference)"
   ]
  },
  {
   "cell_type": "markdown",
   "id": "94aa2e1a",
   "metadata": {},
   "source": [
    "Question 8: Write a Python program to check if a set is a subset of another set."
   ]
  },
  {
   "cell_type": "code",
   "execution_count": 135,
   "id": "adfe6103",
   "metadata": {},
   "outputs": [
    {
     "data": {
      "text/plain": [
       "False"
      ]
     },
     "execution_count": 135,
     "metadata": {},
     "output_type": "execute_result"
    }
   ],
   "source": [
    "set_l = {10, 20, 30, 4, 50}\n",
    "set_m = {40, 50, 10, 70, 90} \n",
    "subset=set_l.issubset(set_m)\n",
    "subset"
   ]
  },
  {
   "cell_type": "markdown",
   "id": "934d58fa",
   "metadata": {},
   "source": [
    "Question 9: Write a Python program to remove all duplicate elements from a set."
   ]
  },
  {
   "cell_type": "code",
   "execution_count": 139,
   "id": "013ac8e9",
   "metadata": {},
   "outputs": [
    {
     "data": {
      "text/plain": [
       "{4, 10, 20, 30, 50}"
      ]
     },
     "execution_count": 139,
     "metadata": {},
     "output_type": "execute_result"
    }
   ],
   "source": [
    "set_l = {10, 20, 30, 4, 50, 20,10,4}\n",
    "\n",
    "set_2=set(set_l)\n",
    "set_2"
   ]
  },
  {
   "cell_type": "markdown",
   "id": "2495e475",
   "metadata": {},
   "source": [
    "Python Coding on Dictionary Assignment \n",
    "\n",
    "\n",
    "Question 1: Write a Python program to create an empty dictionary."
   ]
  },
  {
   "cell_type": "code",
   "execution_count": 153,
   "id": "6231fe8d",
   "metadata": {},
   "outputs": [
    {
     "name": "stdout",
     "output_type": "stream",
     "text": [
      "Data type <class 'dict'> {}\n"
     ]
    }
   ],
   "source": [
    "empty_dictionary={}\n",
    "print('Data type', type(empty_dictionary), empty_dictionary)\n"
   ]
  },
  {
   "cell_type": "markdown",
   "id": "3332efdf",
   "metadata": {},
   "source": [
    "Question 2: Write a Python program to add a key-value pair to a dictionary.\n",
    "    \n",
    "    "
   ]
  },
  {
   "cell_type": "code",
   "execution_count": 161,
   "id": "298ef32f",
   "metadata": {},
   "outputs": [
    {
     "name": "stdout",
     "output_type": "stream",
     "text": [
      "new key-value pair to a dictionary: {'jaipur': 25, 'delhi': 20, 'Mumbai': 65, 'nagpur': 85, 'kolkata': 84}\n"
     ]
    }
   ],
   "source": [
    "dic_1={'jaipur':25, 'delhi':20, 'Mumbai':65 , 'nagpur':85}\n",
    "dic_1['kolkata']=84\n",
    "print('new key-value pair to a dictionary:',dic_1)"
   ]
  },
  {
   "cell_type": "markdown",
   "id": "4f6052a3",
   "metadata": {},
   "source": [
    "Question 3: Write a Python program to remove a key-value pair from a dictionary."
   ]
  },
  {
   "cell_type": "code",
   "execution_count": 170,
   "id": "ee41631a",
   "metadata": {},
   "outputs": [
    {
     "name": "stdout",
     "output_type": "stream",
     "text": [
      "new key-value pair to a dictionary: {'delhi': 20, 'Mumbai': 65, 'nagpur': 85}\n"
     ]
    }
   ],
   "source": [
    "dic_1={'jaipur':25, 'delhi':20, 'Mumbai':65 , 'nagpur':85}\n",
    "del dic_1['jaipur']\n",
    "print('new key-value pair to a dictionary:',dic_1)"
   ]
  },
  {
   "cell_type": "markdown",
   "id": "55eebf07",
   "metadata": {},
   "source": [
    "Question 4: Write a Python program to check if a key exists in a dictionary."
   ]
  },
  {
   "cell_type": "code",
   "execution_count": 168,
   "id": "8aa05ee5",
   "metadata": {},
   "outputs": [
    {
     "data": {
      "text/plain": [
       "20"
      ]
     },
     "execution_count": 168,
     "metadata": {},
     "output_type": "execute_result"
    }
   ],
   "source": [
    "dic_3={'jaipur':25, 'delhi':20, 'Mumbai':65 , 'nagpur':85}\n",
    "dic_3.keys()\n",
    "dic_3.get('delhi')"
   ]
  },
  {
   "cell_type": "markdown",
   "id": "497abd6d",
   "metadata": {},
   "source": [
    "Question 5: Write a Python program to iterate over the keys and values of a dictionary."
   ]
  },
  {
   "cell_type": "code",
   "execution_count": 169,
   "id": "8f957754",
   "metadata": {},
   "outputs": [
    {
     "name": "stdout",
     "output_type": "stream",
     "text": [
      "Key: jaipur Value: 26\n",
      "Key: delhi Value: 20\n",
      "Key: Mumbai Value: 65\n",
      "Key: nagpur Value: 85\n"
     ]
    }
   ],
   "source": [
    "dic_3 = {'jaipur': 25, 'delhi': 20, 'Mumbai': 65, 'nagpur': 85, 'jaipur': 26}\n",
    "for key, value in dic_3.items():\n",
    "    print(\"Key:\", key, \"Value:\", value)\n"
   ]
  },
  {
   "cell_type": "markdown",
   "id": "7de4695a",
   "metadata": {},
   "source": [
    "Question 6: Write a Python program to find the length of a dictionary.\n"
   ]
  },
  {
   "cell_type": "code",
   "execution_count": 172,
   "id": "f829af57",
   "metadata": {},
   "outputs": [
    {
     "data": {
      "text/plain": [
       "4"
      ]
     },
     "execution_count": 172,
     "metadata": {},
     "output_type": "execute_result"
    }
   ],
   "source": [
    "dic_3 = {'jaipur': 25, 'delhi': 20, 'Mumbai': 65, 'nagpur': 85}\n",
    "len(dic_3)"
   ]
  },
  {
   "cell_type": "markdown",
   "id": "7fed24a5",
   "metadata": {},
   "source": [
    "Question 7: Write a Python program to merge two dictionaries."
   ]
  },
  {
   "cell_type": "code",
   "execution_count": 178,
   "id": "0efa20a5",
   "metadata": {},
   "outputs": [
    {
     "data": {
      "text/plain": [
       "{'jaipur': 25, 'delhi': 20, 'Mumbai': 65, 'nagpur': 85, 'jammu': 65, 'pune': 2}"
      ]
     },
     "execution_count": 178,
     "metadata": {},
     "output_type": "execute_result"
    }
   ],
   "source": [
    "dic_3 = {'jaipur': 25, 'delhi': 20, 'Mumbai': 65, 'nagpur': 85}\n",
    "dic_4 ={'jammu': 65 , 'pune':2}\n",
    "dic_3.update(dic_4)\n",
    "dic_3"
   ]
  },
  {
   "cell_type": "markdown",
   "id": "7c45c68a",
   "metadata": {},
   "source": [
    "Question 8: Write a Python program to find the maximum and minimum values in a dictionary."
   ]
  },
  {
   "cell_type": "code",
   "execution_count": 190,
   "id": "08cee3ad",
   "metadata": {},
   "outputs": [
    {
     "name": "stdout",
     "output_type": "stream",
     "text": [
      "maximum value is: 85\n",
      "minimum value is: 20\n"
     ]
    }
   ],
   "source": [
    "dic_3 = {'jaipur': 25, 'delhi': 20, 'Mumbai': 65, 'nagpur': 85}\n",
    "print('maximum value is:',max (dic_3.values()))\n",
    "print('minimum value is:',min (dic_3.values()))\n"
   ]
  },
  {
   "cell_type": "markdown",
   "id": "ff6e3d53",
   "metadata": {},
   "source": [
    "Question 9: Write a Python program to count the occurrences of each value in a dictionary."
   ]
  },
  {
   "cell_type": "code",
   "execution_count": 193,
   "id": "d24b7044",
   "metadata": {},
   "outputs": [
    {
     "name": "stdout",
     "output_type": "stream",
     "text": [
      "Value: 25, Occurrences: 1\n",
      "Value: 20, Occurrences: 1\n",
      "Value: 65, Occurrences: 1\n",
      "Value: 85, Occurrences: 1\n"
     ]
    }
   ],
   "source": [
    "dic_3 = {'jaipur': 25, 'delhi': 20, 'Mumbai': 65, 'nagpur': 85}\n",
    "\n",
    "value_counts = {}  \n",
    "\n",
    "for value in dic_3.values():\n",
    "    if value in value_counts:\n",
    "        value_counts[value] += 1\n",
    "    else:\n",
    "        value_counts[value] = 1\n",
    "\n",
    "for value, count in value_counts.items():\n",
    "    print(f\"Value: {value}, Occurrences: {count}\")\n"
   ]
  },
  {
   "cell_type": "markdown",
   "id": "ef7a0039",
   "metadata": {},
   "source": [
    "Question 10: Write a Python program to sort a dictionary by its values."
   ]
  },
  {
   "cell_type": "code",
   "execution_count": 196,
   "id": "af0a4a82",
   "metadata": {},
   "outputs": [
    {
     "data": {
      "text/plain": [
       "[20, 25, 65, 85]"
      ]
     },
     "execution_count": 196,
     "metadata": {},
     "output_type": "execute_result"
    }
   ],
   "source": [
    "dic_3 = {'jaipur': 25, 'delhi': 20, 'Mumbai': 65, 'nagpur': 85}\n",
    "sorted(dic_3.values())"
   ]
  },
  {
   "cell_type": "markdown",
   "id": "7ecd4fc3",
   "metadata": {},
   "source": [
    "Python Coding On Tuple Assignment  \n",
    "\n",
    "\n",
    "Question 1: Write a Python program to create an empty tuple."
   ]
  },
  {
   "cell_type": "code",
   "execution_count": 197,
   "id": "d580f0a4",
   "metadata": {},
   "outputs": [],
   "source": [
    "empty_tuple=tuple()"
   ]
  },
  {
   "cell_type": "code",
   "execution_count": 199,
   "id": "a25f9670",
   "metadata": {},
   "outputs": [
    {
     "data": {
      "text/plain": [
       "tuple"
      ]
     },
     "execution_count": 199,
     "metadata": {},
     "output_type": "execute_result"
    }
   ],
   "source": [
    "type(empty_tuple)\n"
   ]
  },
  {
   "cell_type": "markdown",
   "id": "2d66f94b",
   "metadata": {},
   "source": [
    "Question 2: Write a Python program to access the elements of a tuple."
   ]
  },
  {
   "cell_type": "code",
   "execution_count": 201,
   "id": "9c6c00a7",
   "metadata": {},
   "outputs": [
    {
     "name": "stdout",
     "output_type": "stream",
     "text": [
      "elements_1: 10 elements_2: 20.5 elements_3: python\n"
     ]
    }
   ],
   "source": [
    "a = (10,20.5,'python')\n",
    "elements_1=a[0]\n",
    "elements_2=a[1]\n",
    "elements_3=a[2]\n",
    "\n",
    "print('elements_1:',elements_1 , 'elements_2:',elements_2, 'elements_3:',elements_3)\n"
   ]
  },
  {
   "cell_type": "markdown",
   "id": "e4e0b8b5",
   "metadata": {},
   "source": [
    "Question 3: Write a Python program to concatenate two tuples."
   ]
  },
  {
   "cell_type": "markdown",
   "id": "88dd45e5",
   "metadata": {},
   "source": [
    "a = (10,20.5,'python')\n",
    "b= (1,2.5,'code')\n",
    "ab=a+b\n",
    "ab"
   ]
  },
  {
   "cell_type": "markdown",
   "id": "7d555d24",
   "metadata": {},
   "source": [
    "Question 4: Write a Python program to find the length of a tuple."
   ]
  },
  {
   "cell_type": "code",
   "execution_count": 206,
   "id": "d3f6fe87",
   "metadata": {},
   "outputs": [
    {
     "data": {
      "text/plain": [
       "3"
      ]
     },
     "execution_count": 206,
     "metadata": {},
     "output_type": "execute_result"
    }
   ],
   "source": [
    "a = (10,20.5,'python')\n",
    "len(a)"
   ]
  },
  {
   "cell_type": "markdown",
   "id": "cd631941",
   "metadata": {},
   "source": [
    "Question 5: Write a Python program to convert a tuple into a list."
   ]
  },
  {
   "cell_type": "code",
   "execution_count": 211,
   "id": "26df1089",
   "metadata": {},
   "outputs": [
    {
     "data": {
      "text/plain": [
       "[10, 20.5, 'python']"
      ]
     },
     "execution_count": 211,
     "metadata": {},
     "output_type": "execute_result"
    }
   ],
   "source": [
    "a = (10,20.5,'python')\n",
    "list_a=list(a)\n",
    "list_a"
   ]
  },
  {
   "cell_type": "markdown",
   "id": "7b7dbb4d",
   "metadata": {},
   "source": [
    "Question 6: Write a Python program to find the maximum and minimum elements in a tuple."
   ]
  },
  {
   "cell_type": "code",
   "execution_count": 220,
   "id": "ff164913",
   "metadata": {},
   "outputs": [
    {
     "name": "stdout",
     "output_type": "stream",
     "text": [
      "maximum elements 102\n",
      "minimum elements 5\n"
     ]
    }
   ],
   "source": [
    "a = (10,20.5,102, 41 , 5)\n",
    "print('maximum elements', max(a))\n",
    "print('minimum elements', min(a))"
   ]
  },
  {
   "cell_type": "markdown",
   "id": "77e81cb2",
   "metadata": {},
   "source": [
    "Question 7: Write a Python program to check if an element exists in a tuple."
   ]
  },
  {
   "cell_type": "code",
   "execution_count": 221,
   "id": "d098bf35",
   "metadata": {},
   "outputs": [
    {
     "name": "stdout",
     "output_type": "stream",
     "text": [
      "102 exists in the tuple.\n"
     ]
    }
   ],
   "source": [
    "a = (10, 20.5, 102, 41, 5)\n",
    "\n",
    "element_to_check = 102\n",
    "\n",
    "if element_to_check in a:\n",
    "    print(f\"{element_to_check} exists in the tuple.\")\n",
    "else:\n",
    "    print(f\"{element_to_check} does not exist in the tuple.\")\n"
   ]
  },
  {
   "cell_type": "markdown",
   "id": "0990900f",
   "metadata": {},
   "source": [
    "Question 8: Write a Python program to count the number of occurrences of an element in a tuple."
   ]
  },
  {
   "cell_type": "code",
   "execution_count": 223,
   "id": "713810fd",
   "metadata": {},
   "outputs": [
    {
     "name": "stdout",
     "output_type": "stream",
     "text": [
      "The element 10 appears 2 times in the tuple.\n"
     ]
    }
   ],
   "source": [
    "a = (10, 20.5, 102, 41, 5,10)\n",
    "\n",
    "element_to_count = 10\n",
    "\n",
    "count = a.count(element_to_count)\n",
    "\n",
    "print(f\"The element {element_to_count} appears {count} times in the tuple.\")\n"
   ]
  },
  {
   "cell_type": "markdown",
   "id": "3fcaa908",
   "metadata": {},
   "source": [
    "Question 9: Write a Python program to slice a tuple."
   ]
  },
  {
   "cell_type": "code",
   "execution_count": 233,
   "id": "5bdf6c67",
   "metadata": {},
   "outputs": [
    {
     "data": {
      "text/plain": [
       "slice(None, (10, 102, 5), None)"
      ]
     },
     "execution_count": 233,
     "metadata": {},
     "output_type": "execute_result"
    }
   ],
   "source": [
    "a = (10, 20.5, 102, 41, 5,10)\n",
    "slice(a[0:10:2])"
   ]
  },
  {
   "cell_type": "markdown",
   "id": "cfd0dd55",
   "metadata": {},
   "source": [
    "Question 10: Write a Python program to unpack a tuple into multiple variables."
   ]
  },
  {
   "cell_type": "code",
   "execution_count": 234,
   "id": "75503d3b",
   "metadata": {},
   "outputs": [
    {
     "name": "stdout",
     "output_type": "stream",
     "text": [
      "Name: ravi\n",
      "Age: 30\n",
      "City: delhi\n"
     ]
    }
   ],
   "source": [
    "# Example tuple\n",
    "person_info = (\"ravi\", 30, \"delhi\")\n",
    "\n",
    "# Unpacking the tuple into variables\n",
    "name, age, city = person_info\n",
    "\n",
    "print(\"Name:\", name)\n",
    "print(\"Age:\", age)\n",
    "print(\"City:\", city)\n"
   ]
  },
  {
   "cell_type": "code",
   "execution_count": null,
   "id": "f77ca41a",
   "metadata": {},
   "outputs": [],
   "source": []
  }
 ],
 "metadata": {
  "kernelspec": {
   "display_name": "Python 3 (ipykernel)",
   "language": "python",
   "name": "python3"
  },
  "language_info": {
   "codemirror_mode": {
    "name": "ipython",
    "version": 3
   },
   "file_extension": ".py",
   "mimetype": "text/x-python",
   "name": "python",
   "nbconvert_exporter": "python",
   "pygments_lexer": "ipython3",
   "version": "3.10.9"
  }
 },
 "nbformat": 4,
 "nbformat_minor": 5
}
